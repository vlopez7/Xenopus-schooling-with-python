{
 "cells": [
  {
   "cell_type": "code",
   "execution_count": 1,
   "metadata": {},
   "outputs": [
    {
     "ename": "ModuleNotFoundError",
     "evalue": "No module named 'goprocam'",
     "output_type": "error",
     "traceback": [
      "\u001b[0;31m---------------------------------------------------------------------------\u001b[0m",
      "\u001b[0;31mModuleNotFoundError\u001b[0m                       Traceback (most recent call last)",
      "\u001b[0;32m<ipython-input-1-b13e31e87c9e>\u001b[0m in \u001b[0;36m<module>\u001b[0;34m\u001b[0m\n\u001b[1;32m      2\u001b[0m \u001b[0;31m# make sure the 2.4ghz connection is selected and connect via the computer's wifi\u001b[0m\u001b[0;34m\u001b[0m\u001b[0;34m\u001b[0m\u001b[0;34m\u001b[0m\u001b[0m\n\u001b[1;32m      3\u001b[0m \u001b[0;34m\u001b[0m\u001b[0m\n\u001b[0;32m----> 4\u001b[0;31m \u001b[0;32mfrom\u001b[0m \u001b[0mgoprocam\u001b[0m \u001b[0;32mimport\u001b[0m \u001b[0mGoProCamera\u001b[0m\u001b[0;34m,\u001b[0m \u001b[0mconstants\u001b[0m \u001b[0;31m#imports GoPro capabilities\u001b[0m\u001b[0;34m\u001b[0m\u001b[0;34m\u001b[0m\u001b[0m\n\u001b[0m\u001b[1;32m      5\u001b[0m \u001b[0mgpCam\u001b[0m \u001b[0;34m=\u001b[0m \u001b[0mGoProCamera\u001b[0m\u001b[0;34m.\u001b[0m\u001b[0mGoPro\u001b[0m\u001b[0;34m(\u001b[0m\u001b[0;34m)\u001b[0m\u001b[0;34m\u001b[0m\u001b[0;34m\u001b[0m\u001b[0m\n\u001b[1;32m      6\u001b[0m \u001b[0;34m\u001b[0m\u001b[0m\n",
      "\u001b[0;31mModuleNotFoundError\u001b[0m: No module named 'goprocam'"
     ]
    }
   ],
   "source": [
    "# GoPro should be connected via wifi\n",
    "# make sure the 2.4ghz connection is selected and connect via the computer's wifi\n",
    "\n",
    "from goprocam import GoProCamera, constants #imports GoPro capabilities\n",
    "gpCam = GoProCamera.GoPro()\n",
    "\n",
    "from sys import exit\n",
    "\n",
    "\n",
    "import time"
   ]
  },
  {
   "cell_type": "code",
   "execution_count": null,
   "metadata": {},
   "outputs": [],
   "source": [
    "def snapshot():\n",
    "    gpCam.take_photo()\n",
    "    p = time_stamp()\n",
    "    photo_stamp.append(p)\n",
    "    print photo_stamp\n",
    "\n",
    "def stimulate():\n",
    "    import u3 # Open the first found LabJack U3\n",
    "    vibrator = u3.U3() # defines vibrator variable as u3 labjack\n",
    "    FIO4_STATE_REGISTER = 6004 # defines which connection will be used to deliver power to vibrator\n",
    "    vibrator.writeRegister(FIO4_STATE_REGISTER, 1) # Deliver voltage to FIO4 to power the vibrator\n",
    "    time.sleep(0.15) # wait for 0.15 seconds, the length of the stimulus vibration\n",
    "    t = time_stamp()\n",
    "    stim_stamp.append(t)\n",
    "    print stim_stamp\n",
    "    vibrator.writeRegister(FIO4_STATE_REGISTER, 0) # Deliver voltage to FIO4 to power the vibrator\n",
    "\n",
    "global start_timer # ma\n",
    "start_timer = time.time()\n",
    "end_timer = start_timer + 3600 # this is when the experiment should stop running\n",
    "print start_timer\n",
    "\n",
    "\n",
    "def time_stamp(): # this function is used to get time stamps for stimuli presentations & photos\n",
    "    elapsed_time = time.time() - start_timer\n",
    "    return elapsed_time\n",
    "\n",
    "\n",
    "stim_stamp = [] # creates an empty list vector to store time stamps of stimulus presentations\n",
    "photo_stamp = [] # creates an empty list vector to store time stamps of photos\n",
    "\n",
    "\n",
    "def start(): # this function runs the actual experiment\n",
    "    while round(end_timer - time.time()) > 0: # creates a timer using a while loop\n",
    "        snapshot() # calls on the GoPro to take a photo\n",
    "\n",
    "        time.sleep(150) # 2.5 minute wait before stimulus\n",
    "\n",
    "        stimulate() # u3 labjack delivers power to vibrator to reset schooling pattern\n",
    "\n",
    "        time.sleep(150) # 2.5 minute wait before repeating the loop\n"
   ]
  },
  {
   "cell_type": "code",
   "execution_count": null,
   "metadata": {},
   "outputs": [],
   "source": [
    "start()\n",
    "\n",
    "print stim_stamp # prints vector with stimuli presentation time stamps\n",
    "print photo_stamp # prints vector with photo time stamps\n",
    "\n",
    "gpCam.downloadAll()"
   ]
  }
 ],
 "metadata": {
  "kernelspec": {
   "display_name": "Python 3",
   "language": "python",
   "name": "python3"
  },
  "language_info": {
   "codemirror_mode": {
    "name": "ipython",
    "version": 3
   },
   "file_extension": ".py",
   "mimetype": "text/x-python",
   "name": "python",
   "nbconvert_exporter": "python",
   "pygments_lexer": "ipython3",
   "version": "3.7.6"
  }
 },
 "nbformat": 4,
 "nbformat_minor": 4
}
